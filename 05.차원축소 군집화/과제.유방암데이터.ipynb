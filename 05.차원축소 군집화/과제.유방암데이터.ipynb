{
 "cells": [
  {
   "cell_type": "markdown",
   "metadata": {},
   "source": [
    "- 차원 축소 (2,5,10)\n",
    "- 분류 정확도 : 원본, 2, 5, 10\n",
    "- 2차원데이터만 시각화\n",
    "- 군집화 \n"
   ]
  },
  {
   "cell_type": "code",
   "execution_count": null,
   "metadata": {},
   "outputs": [],
   "source": []
  }
 ],
 "metadata": {
  "language_info": {
   "name": "python"
  },
  "orig_nbformat": 4
 },
 "nbformat": 4,
 "nbformat_minor": 2
}
