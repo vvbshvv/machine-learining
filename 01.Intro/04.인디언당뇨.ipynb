{
 "cells": [
  {
   "cell_type": "markdown",
   "metadata": {},
   "source": [
    "# 여기는 모두 필수 암기 필요"
   ]
  },
  {
   "cell_type": "code",
   "execution_count": 47,
   "metadata": {},
   "outputs": [],
   "source": [
    "import pandas as pd"
   ]
  },
  {
   "cell_type": "code",
   "execution_count": 48,
   "metadata": {},
   "outputs": [],
   "source": [
    "with open('pima-indians-diabetes.csv') as file:\n",
    "    words=file.read()"
   ]
  },
  {
   "cell_type": "code",
   "execution_count": 49,
   "metadata": {},
   "outputs": [],
   "source": [
    "# df=pd.read_csv('pima-indians-diabetes.csv', skiprows=9, header=None)\n",
    "#헤더 논으로 둬서 임시로 열 생성"
   ]
  },
  {
   "cell_type": "code",
   "execution_count": 50,
   "metadata": {},
   "outputs": [
    {
     "data": {
      "text/html": [
       "<div>\n",
       "<style scoped>\n",
       "    .dataframe tbody tr th:only-of-type {\n",
       "        vertical-align: middle;\n",
       "    }\n",
       "\n",
       "    .dataframe tbody tr th {\n",
       "        vertical-align: top;\n",
       "    }\n",
       "\n",
       "    .dataframe thead th {\n",
       "        text-align: right;\n",
       "    }\n",
       "</style>\n",
       "<table border=\"1\" class=\"dataframe\">\n",
       "  <thead>\n",
       "    <tr style=\"text-align: right;\">\n",
       "      <th></th>\n",
       "      <th>6</th>\n",
       "      <th>148</th>\n",
       "      <th>72</th>\n",
       "      <th>35</th>\n",
       "      <th>0</th>\n",
       "      <th>33.6</th>\n",
       "      <th>0.627</th>\n",
       "      <th>50</th>\n",
       "      <th>1</th>\n",
       "    </tr>\n",
       "  </thead>\n",
       "  <tbody>\n",
       "    <tr>\n",
       "      <th>0</th>\n",
       "      <td>1</td>\n",
       "      <td>85</td>\n",
       "      <td>66</td>\n",
       "      <td>29</td>\n",
       "      <td>0</td>\n",
       "      <td>26.6</td>\n",
       "      <td>0.351</td>\n",
       "      <td>31</td>\n",
       "      <td>0</td>\n",
       "    </tr>\n",
       "    <tr>\n",
       "      <th>1</th>\n",
       "      <td>8</td>\n",
       "      <td>183</td>\n",
       "      <td>64</td>\n",
       "      <td>0</td>\n",
       "      <td>0</td>\n",
       "      <td>23.3</td>\n",
       "      <td>0.672</td>\n",
       "      <td>32</td>\n",
       "      <td>1</td>\n",
       "    </tr>\n",
       "    <tr>\n",
       "      <th>2</th>\n",
       "      <td>1</td>\n",
       "      <td>89</td>\n",
       "      <td>66</td>\n",
       "      <td>23</td>\n",
       "      <td>94</td>\n",
       "      <td>28.1</td>\n",
       "      <td>0.167</td>\n",
       "      <td>21</td>\n",
       "      <td>0</td>\n",
       "    </tr>\n",
       "    <tr>\n",
       "      <th>3</th>\n",
       "      <td>0</td>\n",
       "      <td>137</td>\n",
       "      <td>40</td>\n",
       "      <td>35</td>\n",
       "      <td>168</td>\n",
       "      <td>43.1</td>\n",
       "      <td>2.288</td>\n",
       "      <td>33</td>\n",
       "      <td>1</td>\n",
       "    </tr>\n",
       "    <tr>\n",
       "      <th>4</th>\n",
       "      <td>5</td>\n",
       "      <td>116</td>\n",
       "      <td>74</td>\n",
       "      <td>0</td>\n",
       "      <td>0</td>\n",
       "      <td>25.6</td>\n",
       "      <td>0.201</td>\n",
       "      <td>30</td>\n",
       "      <td>0</td>\n",
       "    </tr>\n",
       "    <tr>\n",
       "      <th>...</th>\n",
       "      <td>...</td>\n",
       "      <td>...</td>\n",
       "      <td>...</td>\n",
       "      <td>...</td>\n",
       "      <td>...</td>\n",
       "      <td>...</td>\n",
       "      <td>...</td>\n",
       "      <td>...</td>\n",
       "      <td>...</td>\n",
       "    </tr>\n",
       "    <tr>\n",
       "      <th>762</th>\n",
       "      <td>10</td>\n",
       "      <td>101</td>\n",
       "      <td>76</td>\n",
       "      <td>48</td>\n",
       "      <td>180</td>\n",
       "      <td>32.9</td>\n",
       "      <td>0.171</td>\n",
       "      <td>63</td>\n",
       "      <td>0</td>\n",
       "    </tr>\n",
       "    <tr>\n",
       "      <th>763</th>\n",
       "      <td>2</td>\n",
       "      <td>122</td>\n",
       "      <td>70</td>\n",
       "      <td>27</td>\n",
       "      <td>0</td>\n",
       "      <td>36.8</td>\n",
       "      <td>0.340</td>\n",
       "      <td>27</td>\n",
       "      <td>0</td>\n",
       "    </tr>\n",
       "    <tr>\n",
       "      <th>764</th>\n",
       "      <td>5</td>\n",
       "      <td>121</td>\n",
       "      <td>72</td>\n",
       "      <td>23</td>\n",
       "      <td>112</td>\n",
       "      <td>26.2</td>\n",
       "      <td>0.245</td>\n",
       "      <td>30</td>\n",
       "      <td>0</td>\n",
       "    </tr>\n",
       "    <tr>\n",
       "      <th>765</th>\n",
       "      <td>1</td>\n",
       "      <td>126</td>\n",
       "      <td>60</td>\n",
       "      <td>0</td>\n",
       "      <td>0</td>\n",
       "      <td>30.1</td>\n",
       "      <td>0.349</td>\n",
       "      <td>47</td>\n",
       "      <td>1</td>\n",
       "    </tr>\n",
       "    <tr>\n",
       "      <th>766</th>\n",
       "      <td>1</td>\n",
       "      <td>93</td>\n",
       "      <td>70</td>\n",
       "      <td>31</td>\n",
       "      <td>0</td>\n",
       "      <td>30.4</td>\n",
       "      <td>0.315</td>\n",
       "      <td>23</td>\n",
       "      <td>0</td>\n",
       "    </tr>\n",
       "  </tbody>\n",
       "</table>\n",
       "<p>767 rows × 9 columns</p>\n",
       "</div>"
      ],
      "text/plain": [
       "      6  148  72  35    0  33.6  0.627  50  1\n",
       "0     1   85  66  29    0  26.6  0.351  31  0\n",
       "1     8  183  64   0    0  23.3  0.672  32  1\n",
       "2     1   89  66  23   94  28.1  0.167  21  0\n",
       "3     0  137  40  35  168  43.1  2.288  33  1\n",
       "4     5  116  74   0    0  25.6  0.201  30  0\n",
       "..   ..  ...  ..  ..  ...   ...    ...  .. ..\n",
       "762  10  101  76  48  180  32.9  0.171  63  0\n",
       "763   2  122  70  27    0  36.8  0.340  27  0\n",
       "764   5  121  72  23  112  26.2  0.245  30  0\n",
       "765   1  126  60   0    0  30.1  0.349  47  1\n",
       "766   1   93  70  31    0  30.4  0.315  23  0\n",
       "\n",
       "[767 rows x 9 columns]"
      ]
     },
     "execution_count": 50,
     "metadata": {},
     "output_type": "execute_result"
    }
   ],
   "source": [
    "df=pd.read_csv('pima-indians-diabetes.csv', skiprows=9)\n",
    "df"
   ]
  },
  {
   "cell_type": "code",
   "execution_count": 51,
   "metadata": {},
   "outputs": [],
   "source": [
    "columns = ['Number of times pregnant','Plasma glucose concentration a 2 hours in an oral glucose tolerance test'\n",
    ", 'Diastolic blood pressure (mm Hg)','Triceps skin fold thickness (mm)',\n",
    "'2-Hour serum insulin (mu U/ml)','Body mass index (weight in kg/(height in m)^2)',\n",
    "'Diabetes pedigree function','Age (years)','Class variable (0 or 1)']"
   ]
  },
  {
   "cell_type": "code",
   "execution_count": 52,
   "metadata": {},
   "outputs": [
    {
     "data": {
      "text/html": [
       "<div>\n",
       "<style scoped>\n",
       "    .dataframe tbody tr th:only-of-type {\n",
       "        vertical-align: middle;\n",
       "    }\n",
       "\n",
       "    .dataframe tbody tr th {\n",
       "        vertical-align: top;\n",
       "    }\n",
       "\n",
       "    .dataframe thead th {\n",
       "        text-align: right;\n",
       "    }\n",
       "</style>\n",
       "<table border=\"1\" class=\"dataframe\">\n",
       "  <thead>\n",
       "    <tr style=\"text-align: right;\">\n",
       "      <th></th>\n",
       "      <th>Number of times pregnant</th>\n",
       "      <th>Plasma glucose concentration a 2 hours in an oral glucose tolerance test</th>\n",
       "      <th>Diastolic blood pressure (mm Hg)</th>\n",
       "      <th>Triceps skin fold thickness (mm)</th>\n",
       "      <th>2-Hour serum insulin (mu U/ml)</th>\n",
       "      <th>Body mass index (weight in kg/(height in m)^2)</th>\n",
       "      <th>Diabetes pedigree function</th>\n",
       "      <th>Age (years)</th>\n",
       "      <th>Class variable (0 or 1)</th>\n",
       "    </tr>\n",
       "  </thead>\n",
       "  <tbody>\n",
       "    <tr>\n",
       "      <th>0</th>\n",
       "      <td>1.0</td>\n",
       "      <td>85.0</td>\n",
       "      <td>66.0</td>\n",
       "      <td>29.0</td>\n",
       "      <td>0.0</td>\n",
       "      <td>26.6</td>\n",
       "      <td>0.351</td>\n",
       "      <td>31.0</td>\n",
       "      <td>0.0</td>\n",
       "    </tr>\n",
       "    <tr>\n",
       "      <th>1</th>\n",
       "      <td>8.0</td>\n",
       "      <td>183.0</td>\n",
       "      <td>64.0</td>\n",
       "      <td>0.0</td>\n",
       "      <td>0.0</td>\n",
       "      <td>23.3</td>\n",
       "      <td>0.672</td>\n",
       "      <td>32.0</td>\n",
       "      <td>1.0</td>\n",
       "    </tr>\n",
       "    <tr>\n",
       "      <th>2</th>\n",
       "      <td>1.0</td>\n",
       "      <td>89.0</td>\n",
       "      <td>66.0</td>\n",
       "      <td>23.0</td>\n",
       "      <td>94.0</td>\n",
       "      <td>28.1</td>\n",
       "      <td>0.167</td>\n",
       "      <td>21.0</td>\n",
       "      <td>0.0</td>\n",
       "    </tr>\n",
       "    <tr>\n",
       "      <th>3</th>\n",
       "      <td>0.0</td>\n",
       "      <td>137.0</td>\n",
       "      <td>40.0</td>\n",
       "      <td>35.0</td>\n",
       "      <td>168.0</td>\n",
       "      <td>43.1</td>\n",
       "      <td>2.288</td>\n",
       "      <td>33.0</td>\n",
       "      <td>1.0</td>\n",
       "    </tr>\n",
       "    <tr>\n",
       "      <th>4</th>\n",
       "      <td>5.0</td>\n",
       "      <td>116.0</td>\n",
       "      <td>74.0</td>\n",
       "      <td>0.0</td>\n",
       "      <td>0.0</td>\n",
       "      <td>25.6</td>\n",
       "      <td>0.201</td>\n",
       "      <td>30.0</td>\n",
       "      <td>0.0</td>\n",
       "    </tr>\n",
       "    <tr>\n",
       "      <th>...</th>\n",
       "      <td>...</td>\n",
       "      <td>...</td>\n",
       "      <td>...</td>\n",
       "      <td>...</td>\n",
       "      <td>...</td>\n",
       "      <td>...</td>\n",
       "      <td>...</td>\n",
       "      <td>...</td>\n",
       "      <td>...</td>\n",
       "    </tr>\n",
       "    <tr>\n",
       "      <th>762</th>\n",
       "      <td>10.0</td>\n",
       "      <td>101.0</td>\n",
       "      <td>76.0</td>\n",
       "      <td>48.0</td>\n",
       "      <td>180.0</td>\n",
       "      <td>32.9</td>\n",
       "      <td>0.171</td>\n",
       "      <td>63.0</td>\n",
       "      <td>0.0</td>\n",
       "    </tr>\n",
       "    <tr>\n",
       "      <th>763</th>\n",
       "      <td>2.0</td>\n",
       "      <td>122.0</td>\n",
       "      <td>70.0</td>\n",
       "      <td>27.0</td>\n",
       "      <td>0.0</td>\n",
       "      <td>36.8</td>\n",
       "      <td>0.340</td>\n",
       "      <td>27.0</td>\n",
       "      <td>0.0</td>\n",
       "    </tr>\n",
       "    <tr>\n",
       "      <th>764</th>\n",
       "      <td>5.0</td>\n",
       "      <td>121.0</td>\n",
       "      <td>72.0</td>\n",
       "      <td>23.0</td>\n",
       "      <td>112.0</td>\n",
       "      <td>26.2</td>\n",
       "      <td>0.245</td>\n",
       "      <td>30.0</td>\n",
       "      <td>0.0</td>\n",
       "    </tr>\n",
       "    <tr>\n",
       "      <th>765</th>\n",
       "      <td>1.0</td>\n",
       "      <td>126.0</td>\n",
       "      <td>60.0</td>\n",
       "      <td>0.0</td>\n",
       "      <td>0.0</td>\n",
       "      <td>30.1</td>\n",
       "      <td>0.349</td>\n",
       "      <td>47.0</td>\n",
       "      <td>1.0</td>\n",
       "    </tr>\n",
       "    <tr>\n",
       "      <th>766</th>\n",
       "      <td>1.0</td>\n",
       "      <td>93.0</td>\n",
       "      <td>70.0</td>\n",
       "      <td>31.0</td>\n",
       "      <td>0.0</td>\n",
       "      <td>30.4</td>\n",
       "      <td>0.315</td>\n",
       "      <td>23.0</td>\n",
       "      <td>0.0</td>\n",
       "    </tr>\n",
       "  </tbody>\n",
       "</table>\n",
       "<p>767 rows × 9 columns</p>\n",
       "</div>"
      ],
      "text/plain": [
       "     Number of times pregnant  \\\n",
       "0                         1.0   \n",
       "1                         8.0   \n",
       "2                         1.0   \n",
       "3                         0.0   \n",
       "4                         5.0   \n",
       "..                        ...   \n",
       "762                      10.0   \n",
       "763                       2.0   \n",
       "764                       5.0   \n",
       "765                       1.0   \n",
       "766                       1.0   \n",
       "\n",
       "     Plasma glucose concentration a 2 hours in an oral glucose tolerance test  \\\n",
       "0                                                 85.0                          \n",
       "1                                                183.0                          \n",
       "2                                                 89.0                          \n",
       "3                                                137.0                          \n",
       "4                                                116.0                          \n",
       "..                                                 ...                          \n",
       "762                                              101.0                          \n",
       "763                                              122.0                          \n",
       "764                                              121.0                          \n",
       "765                                              126.0                          \n",
       "766                                               93.0                          \n",
       "\n",
       "     Diastolic blood pressure (mm Hg)  Triceps skin fold thickness (mm)  \\\n",
       "0                                66.0                              29.0   \n",
       "1                                64.0                               0.0   \n",
       "2                                66.0                              23.0   \n",
       "3                                40.0                              35.0   \n",
       "4                                74.0                               0.0   \n",
       "..                                ...                               ...   \n",
       "762                              76.0                              48.0   \n",
       "763                              70.0                              27.0   \n",
       "764                              72.0                              23.0   \n",
       "765                              60.0                               0.0   \n",
       "766                              70.0                              31.0   \n",
       "\n",
       "     2-Hour serum insulin (mu U/ml)  \\\n",
       "0                               0.0   \n",
       "1                               0.0   \n",
       "2                              94.0   \n",
       "3                             168.0   \n",
       "4                               0.0   \n",
       "..                              ...   \n",
       "762                           180.0   \n",
       "763                             0.0   \n",
       "764                           112.0   \n",
       "765                             0.0   \n",
       "766                             0.0   \n",
       "\n",
       "     Body mass index (weight in kg/(height in m)^2)  \\\n",
       "0                                              26.6   \n",
       "1                                              23.3   \n",
       "2                                              28.1   \n",
       "3                                              43.1   \n",
       "4                                              25.6   \n",
       "..                                              ...   \n",
       "762                                            32.9   \n",
       "763                                            36.8   \n",
       "764                                            26.2   \n",
       "765                                            30.1   \n",
       "766                                            30.4   \n",
       "\n",
       "     Diabetes pedigree function  Age (years)  Class variable (0 or 1)  \n",
       "0                         0.351         31.0                      0.0  \n",
       "1                         0.672         32.0                      1.0  \n",
       "2                         0.167         21.0                      0.0  \n",
       "3                         2.288         33.0                      1.0  \n",
       "4                         0.201         30.0                      0.0  \n",
       "..                          ...          ...                      ...  \n",
       "762                       0.171         63.0                      0.0  \n",
       "763                       0.340         27.0                      0.0  \n",
       "764                       0.245         30.0                      0.0  \n",
       "765                       0.349         47.0                      1.0  \n",
       "766                       0.315         23.0                      0.0  \n",
       "\n",
       "[767 rows x 9 columns]"
      ]
     },
     "execution_count": 52,
     "metadata": {},
     "output_type": "execute_result"
    }
   ],
   "source": [
    "df2=pd.DataFrame(df.values, columns=columns)\n",
    "df2"
   ]
  },
  {
   "cell_type": "code",
   "execution_count": 53,
   "metadata": {},
   "outputs": [],
   "source": [
    "new_data = {\n",
    "    'Number of times pregnant' : 6.000,\n",
    "    'Plasma glucose concentration a 2 hours in an oral glucose tolerance test' : 148.000,\n",
    "    'Diastolic blood pressure (mm Hg)' : 72.000,\n",
    "    'Triceps skin fold thickness (mm)' : 35.000,\n",
    "    '2-Hour serum insulin (mu U/ml)' : 0.000,\n",
    "    'Body mass index (weight in kg/(height in m)^2)' : 33.600,\n",
    "    'Diabetes pedigree function' : 0.627,\n",
    "    'Age (years)' : 50.000,\n",
    "    'Class variable (0 or 1)' : 1.000\n",
    "}\n",
    " \n",
    "idx = 0 ## 원하는 인덱스\n",
    " \n",
    "temp1 = df2[df2.index < idx]\n",
    "temp2 = df2[df2.index >= idx]\n",
    "df2 = temp1.append(new_data,ignore_index=True).append(temp2, ignore_index=True)"
   ]
  },
  {
   "cell_type": "code",
   "execution_count": 54,
   "metadata": {},
   "outputs": [
    {
     "data": {
      "text/html": [
       "<div>\n",
       "<style scoped>\n",
       "    .dataframe tbody tr th:only-of-type {\n",
       "        vertical-align: middle;\n",
       "    }\n",
       "\n",
       "    .dataframe tbody tr th {\n",
       "        vertical-align: top;\n",
       "    }\n",
       "\n",
       "    .dataframe thead th {\n",
       "        text-align: right;\n",
       "    }\n",
       "</style>\n",
       "<table border=\"1\" class=\"dataframe\">\n",
       "  <thead>\n",
       "    <tr style=\"text-align: right;\">\n",
       "      <th></th>\n",
       "      <th>Number of times pregnant</th>\n",
       "      <th>Plasma glucose concentration a 2 hours in an oral glucose tolerance test</th>\n",
       "      <th>Diastolic blood pressure (mm Hg)</th>\n",
       "      <th>Triceps skin fold thickness (mm)</th>\n",
       "      <th>2-Hour serum insulin (mu U/ml)</th>\n",
       "      <th>Body mass index (weight in kg/(height in m)^2)</th>\n",
       "      <th>Diabetes pedigree function</th>\n",
       "      <th>Age (years)</th>\n",
       "      <th>Class variable (0 or 1)</th>\n",
       "    </tr>\n",
       "  </thead>\n",
       "  <tbody>\n",
       "    <tr>\n",
       "      <th>0</th>\n",
       "      <td>6.0</td>\n",
       "      <td>148.0</td>\n",
       "      <td>72.0</td>\n",
       "      <td>35.0</td>\n",
       "      <td>0.0</td>\n",
       "      <td>33.6</td>\n",
       "      <td>0.627</td>\n",
       "      <td>50.0</td>\n",
       "      <td>1.0</td>\n",
       "    </tr>\n",
       "    <tr>\n",
       "      <th>1</th>\n",
       "      <td>1.0</td>\n",
       "      <td>85.0</td>\n",
       "      <td>66.0</td>\n",
       "      <td>29.0</td>\n",
       "      <td>0.0</td>\n",
       "      <td>26.6</td>\n",
       "      <td>0.351</td>\n",
       "      <td>31.0</td>\n",
       "      <td>0.0</td>\n",
       "    </tr>\n",
       "    <tr>\n",
       "      <th>2</th>\n",
       "      <td>8.0</td>\n",
       "      <td>183.0</td>\n",
       "      <td>64.0</td>\n",
       "      <td>0.0</td>\n",
       "      <td>0.0</td>\n",
       "      <td>23.3</td>\n",
       "      <td>0.672</td>\n",
       "      <td>32.0</td>\n",
       "      <td>1.0</td>\n",
       "    </tr>\n",
       "    <tr>\n",
       "      <th>3</th>\n",
       "      <td>1.0</td>\n",
       "      <td>89.0</td>\n",
       "      <td>66.0</td>\n",
       "      <td>23.0</td>\n",
       "      <td>94.0</td>\n",
       "      <td>28.1</td>\n",
       "      <td>0.167</td>\n",
       "      <td>21.0</td>\n",
       "      <td>0.0</td>\n",
       "    </tr>\n",
       "    <tr>\n",
       "      <th>4</th>\n",
       "      <td>0.0</td>\n",
       "      <td>137.0</td>\n",
       "      <td>40.0</td>\n",
       "      <td>35.0</td>\n",
       "      <td>168.0</td>\n",
       "      <td>43.1</td>\n",
       "      <td>2.288</td>\n",
       "      <td>33.0</td>\n",
       "      <td>1.0</td>\n",
       "    </tr>\n",
       "    <tr>\n",
       "      <th>...</th>\n",
       "      <td>...</td>\n",
       "      <td>...</td>\n",
       "      <td>...</td>\n",
       "      <td>...</td>\n",
       "      <td>...</td>\n",
       "      <td>...</td>\n",
       "      <td>...</td>\n",
       "      <td>...</td>\n",
       "      <td>...</td>\n",
       "    </tr>\n",
       "    <tr>\n",
       "      <th>763</th>\n",
       "      <td>10.0</td>\n",
       "      <td>101.0</td>\n",
       "      <td>76.0</td>\n",
       "      <td>48.0</td>\n",
       "      <td>180.0</td>\n",
       "      <td>32.9</td>\n",
       "      <td>0.171</td>\n",
       "      <td>63.0</td>\n",
       "      <td>0.0</td>\n",
       "    </tr>\n",
       "    <tr>\n",
       "      <th>764</th>\n",
       "      <td>2.0</td>\n",
       "      <td>122.0</td>\n",
       "      <td>70.0</td>\n",
       "      <td>27.0</td>\n",
       "      <td>0.0</td>\n",
       "      <td>36.8</td>\n",
       "      <td>0.340</td>\n",
       "      <td>27.0</td>\n",
       "      <td>0.0</td>\n",
       "    </tr>\n",
       "    <tr>\n",
       "      <th>765</th>\n",
       "      <td>5.0</td>\n",
       "      <td>121.0</td>\n",
       "      <td>72.0</td>\n",
       "      <td>23.0</td>\n",
       "      <td>112.0</td>\n",
       "      <td>26.2</td>\n",
       "      <td>0.245</td>\n",
       "      <td>30.0</td>\n",
       "      <td>0.0</td>\n",
       "    </tr>\n",
       "    <tr>\n",
       "      <th>766</th>\n",
       "      <td>1.0</td>\n",
       "      <td>126.0</td>\n",
       "      <td>60.0</td>\n",
       "      <td>0.0</td>\n",
       "      <td>0.0</td>\n",
       "      <td>30.1</td>\n",
       "      <td>0.349</td>\n",
       "      <td>47.0</td>\n",
       "      <td>1.0</td>\n",
       "    </tr>\n",
       "    <tr>\n",
       "      <th>767</th>\n",
       "      <td>1.0</td>\n",
       "      <td>93.0</td>\n",
       "      <td>70.0</td>\n",
       "      <td>31.0</td>\n",
       "      <td>0.0</td>\n",
       "      <td>30.4</td>\n",
       "      <td>0.315</td>\n",
       "      <td>23.0</td>\n",
       "      <td>0.0</td>\n",
       "    </tr>\n",
       "  </tbody>\n",
       "</table>\n",
       "<p>768 rows × 9 columns</p>\n",
       "</div>"
      ],
      "text/plain": [
       "     Number of times pregnant  \\\n",
       "0                         6.0   \n",
       "1                         1.0   \n",
       "2                         8.0   \n",
       "3                         1.0   \n",
       "4                         0.0   \n",
       "..                        ...   \n",
       "763                      10.0   \n",
       "764                       2.0   \n",
       "765                       5.0   \n",
       "766                       1.0   \n",
       "767                       1.0   \n",
       "\n",
       "     Plasma glucose concentration a 2 hours in an oral glucose tolerance test  \\\n",
       "0                                                148.0                          \n",
       "1                                                 85.0                          \n",
       "2                                                183.0                          \n",
       "3                                                 89.0                          \n",
       "4                                                137.0                          \n",
       "..                                                 ...                          \n",
       "763                                              101.0                          \n",
       "764                                              122.0                          \n",
       "765                                              121.0                          \n",
       "766                                              126.0                          \n",
       "767                                               93.0                          \n",
       "\n",
       "     Diastolic blood pressure (mm Hg)  Triceps skin fold thickness (mm)  \\\n",
       "0                                72.0                              35.0   \n",
       "1                                66.0                              29.0   \n",
       "2                                64.0                               0.0   \n",
       "3                                66.0                              23.0   \n",
       "4                                40.0                              35.0   \n",
       "..                                ...                               ...   \n",
       "763                              76.0                              48.0   \n",
       "764                              70.0                              27.0   \n",
       "765                              72.0                              23.0   \n",
       "766                              60.0                               0.0   \n",
       "767                              70.0                              31.0   \n",
       "\n",
       "     2-Hour serum insulin (mu U/ml)  \\\n",
       "0                               0.0   \n",
       "1                               0.0   \n",
       "2                               0.0   \n",
       "3                              94.0   \n",
       "4                             168.0   \n",
       "..                              ...   \n",
       "763                           180.0   \n",
       "764                             0.0   \n",
       "765                           112.0   \n",
       "766                             0.0   \n",
       "767                             0.0   \n",
       "\n",
       "     Body mass index (weight in kg/(height in m)^2)  \\\n",
       "0                                              33.6   \n",
       "1                                              26.6   \n",
       "2                                              23.3   \n",
       "3                                              28.1   \n",
       "4                                              43.1   \n",
       "..                                              ...   \n",
       "763                                            32.9   \n",
       "764                                            36.8   \n",
       "765                                            26.2   \n",
       "766                                            30.1   \n",
       "767                                            30.4   \n",
       "\n",
       "     Diabetes pedigree function  Age (years)  Class variable (0 or 1)  \n",
       "0                         0.627         50.0                      1.0  \n",
       "1                         0.351         31.0                      0.0  \n",
       "2                         0.672         32.0                      1.0  \n",
       "3                         0.167         21.0                      0.0  \n",
       "4                         2.288         33.0                      1.0  \n",
       "..                          ...          ...                      ...  \n",
       "763                       0.171         63.0                      0.0  \n",
       "764                       0.340         27.0                      0.0  \n",
       "765                       0.245         30.0                      0.0  \n",
       "766                       0.349         47.0                      1.0  \n",
       "767                       0.315         23.0                      0.0  \n",
       "\n",
       "[768 rows x 9 columns]"
      ]
     },
     "execution_count": 54,
     "metadata": {},
     "output_type": "execute_result"
    }
   ],
   "source": [
    "df2"
   ]
  },
  {
   "cell_type": "code",
   "execution_count": 55,
   "metadata": {},
   "outputs": [
    {
     "data": {
      "text/plain": [
       "0.0    500\n",
       "1.0    268\n",
       "Name: Class variable (0 or 1), dtype: int64"
      ]
     },
     "execution_count": 55,
     "metadata": {},
     "output_type": "execute_result"
    }
   ],
   "source": [
    "# 어떤 값이 몇개나 있는지 확인\n",
    "df2['Class variable (0 or 1)'].value_counts() #데이터프레임\n",
    "# np.unique(df2['Class variable (0 or 1)'], return_counts=True) # 넘파이"
   ]
  },
  {
   "cell_type": "code",
   "execution_count": 56,
   "metadata": {},
   "outputs": [
    {
     "data": {
      "text/plain": [
       "array([ 6.,  1.,  8.,  1.,  0.,  5.,  3., 10.,  2.,  8.,  4., 10., 10.,\n",
       "        1.,  5.,  7.,  0.,  7.,  1.,  1.,  3.,  8.,  7.,  9., 11., 10.,\n",
       "        7.,  1., 13.,  5.,  5.,  3.,  3.,  6., 10.,  4., 11.,  9.,  2.,\n",
       "        4.,  3.,  7.,  7.,  9.,  7.,  0.,  1.,  2.,  7.,  7.,  1.,  1.,\n",
       "        5.,  8.,  7.,  1.,  7.,  0.,  0.,  0.,  2.,  8.,  5.,  2.,  7.,\n",
       "        5.,  0.,  2.,  1.,  4.,  2.,  5., 13.,  4.,  1.,  1.,  7.,  5.,\n",
       "        0.,  2.,  3.,  2.,  7.,  0.,  5.,  2., 13.,  2., 15.,  1.,  1.,\n",
       "        4.,  7.,  4.,  2.,  6.,  2.,  1.,  6.,  1.,  1.,  1.,  0.,  1.,\n",
       "        2.,  1.,  1.,  4.,  3.,  0.,  3.,  8.,  1.,  4.,  7.,  4.,  5.,\n",
       "        5.,  4.,  4.,  0.,  6.,  2.,  5.,  0.,  1.,  3.,  1.,  1.,  0.,\n",
       "        4.,  9.,  3.,  8.,  2.,  2.,  0.,  0.,  0.,  5.,  3.,  5.,  2.,\n",
       "       10.,  4.,  0.,  9.,  2.,  5.,  2.,  1.,  4.,  9.,  1.,  8.,  7.,\n",
       "        2.,  1.,  2., 17.,  4.,  7.,  0.,  2.,  0.,  6.,  3.,  4.,  4.,\n",
       "        3.,  6.,  6.,  2.,  1.,  2.,  8.,  6.,  0.,  5.,  5.,  6.,  0.,\n",
       "        1.,  5.,  4.,  7.,  8.,  1.,  8.,  5.,  3.,  9.,  7., 11.,  8.,\n",
       "        5.,  1.,  3.,  4.,  4.,  0.,  1.,  0.,  2.,  6.,  5.,  8.,  5.,\n",
       "        1.,  7.,  2.,  0.,  7.,  0.,  9., 12.,  5.,  6.,  5.,  5.,  0.,\n",
       "        2.,  7.,  7.,  1.,  1.,  0.,  3.,  4.,  0.,  4.,  6.,  1.,  4.,\n",
       "        3.,  4.,  7.,  0.,  9.,  0.,  1.,  4.,  3.,  6.,  2.,  9., 10.,\n",
       "        0.,  9.,  1.,  9.,  2.,  2.,  0., 12.,  1.,  3.,  2.,  1., 11.,\n",
       "        3.,  3.,  4.,  3.,  4.,  5.,  0.,  2.,  0.,  2., 10.,  2.,  3.,\n",
       "        1., 13.,  2.,  7.,  0.,  5.,  2.,  0., 10.,  7.,  7.,  2.,  7.,\n",
       "        5.,  1.,  4.,  5.,  0.,  0.,  2.,  1.,  0.,  6.,  2.,  0., 14.,\n",
       "        8.,  0.,  2.,  5.,  5.,  3.,  2., 10.,  0.,  0.,  2.,  6.,  0.,\n",
       "        2.,  3.,  7.,  2.,  3.,  3.,  3.,  6.,  4.,  3.,  0., 13.,  2.,\n",
       "        1.,  1., 10.,  2.,  6.,  8.,  2.,  1., 12.,  1.,  0.,  0.,  5.,\n",
       "        9.,  7.,  1.,  1.,  1.,  5.,  8.,  8.,  1.,  3.,  3.,  5.,  4.,\n",
       "        4.,  3.,  1.,  3.,  9.,  1., 13., 12.,  1.,  5.,  5.,  5.,  4.,\n",
       "        4.,  5.,  6.,  0.,  3.,  1.,  3.,  0.,  0.,  2.,  2., 12.,  0.,\n",
       "        1.,  4.,  0.,  1.,  0.,  1.,  1.,  1.,  1.,  5.,  8.,  5.,  3.,\n",
       "        1.,  5.,  1.,  4.,  4.,  2.,  3.,  0.,  3.,  3.,  4.,  6.,  5.,\n",
       "        9.,  5.,  2.,  4.,  0.,  8.,  1.,  6.,  1.,  1.,  1.,  0.,  3.,\n",
       "        1.,  4.,  1.,  3.,  1.,  2.,  0.,  2.,  8.,  4.,  0.,  1.,  0.,\n",
       "        1.,  2.,  3.,  1.,  2.,  1.,  0., 12.,  5.,  1.,  6.,  0.,  2.,\n",
       "        4.,  8.,  4.,  0.,  1.,  0.,  0.,  0.,  1.,  2.,  0.,  2.,  2.,\n",
       "       14.,  1.,  5., 10.,  9.,  9.,  1.,  8.,  5., 10.,  0.,  0.,  0.,\n",
       "        8.,  6.,  1.,  0.,  0.,  7.,  4.,  0.,  2.,  7.,  8.,  4.,  3.,\n",
       "        0.,  4.,  0.,  0.,  0.,  1.,  0.,  4.,  8.,  2.,  2.,  4.,  4.,\n",
       "        3.,  6.,  5.,  2.,  7.,  6.,  2.,  3.,  6.,  7.,  3., 10.,  0.,\n",
       "        1.,  2.,  8., 12.,  0.,  9.,  2.,  3.,  3.,  9.,  7., 13.,  6.,\n",
       "        2.,  3.,  6.,  9.,  3.,  3.,  1.,  3.,  0.,  0.,  2.,  0.,  1.,\n",
       "        6.,  1.,  4.,  0.,  0.,  0.,  3.,  8.,  3., 10.,  4.,  1.,  8.,\n",
       "        5.,  4.,  1.,  4.,  1.,  3.,  6.,  1.,  1.,  7.,  1.,  8., 11.,\n",
       "       11.,  6.,  0.,  1.,  6.,  0.,  2.,  1.,  6.,  4.,  0.,  3.,  2.,\n",
       "        3.,  2.,  1.,  1.,  6.,  2., 10.,  2.,  0.,  6., 12.,  8.,  8.,\n",
       "        1.,  8.,  6.,  3.,  0., 11.,  2.,  3.,  2.,  6.,  0.,  0.,  1.,\n",
       "        1.,  1.,  1.,  6.,  1.,  7.,  4.,  1.,  1.,  1.,  0.,  1.,  3.,\n",
       "        3.,  7.,  6., 11.,  3.,  6.,  2.,  9.,  0.,  2.,  2.,  6.,  0.,\n",
       "        2.,  4.,  0.,  0.,  5.,  4.,  7.,  0.,  2.,  1., 10., 13.,  5.,\n",
       "        2.,  7.,  1.,  0.,  4.,  6.,  4.,  3.,  2.,  1.,  0., 11.,  0.,\n",
       "        1.,  1.,  5.,  2.,  1.,  2.,  2.,  1., 11.,  3., 10.,  1.,  8.,\n",
       "        9.,  6.,  1.,  4., 10.,  6.,  9.,  6.,  1., 10.,  3.,  8.,  6.,\n",
       "        9.,  0.,  3.,  2.,  2.,  0.,  0.,  4.,  5.,  2.,  3.,  1.,  1.,\n",
       "        1.,  8., 13.,  2.,  7.,  2.,  7.,  3.,  0.,  4.,  4.,  2.,  6.,\n",
       "        1.,  2.,  4.,  6., 10.,  2.,  9.,  2.,  3.,  5., 10.,  0.,  3.,\n",
       "        7.,  3., 10.,  1.,  5.,  4.,  1.,  1.,  5.,  1.,  4.,  1.,  0.,\n",
       "        2.,  2.,  3.,  8.,  2.,  2.,  2.,  4.,  0.,  8.,  2.,  1., 11.,\n",
       "        3.,  1.,  9., 13., 12.,  1.,  1.,  3.,  6.,  4.,  1.,  3.,  0.,\n",
       "        8.,  1.,  7.,  0.,  1.,  6.,  2.,  9.,  9., 10.,  2.,  5.,  1.,\n",
       "        1.])"
      ]
     },
     "execution_count": 56,
     "metadata": {},
     "output_type": "execute_result"
    }
   ],
   "source": [
    "df2['Number of times pregnant'].values"
   ]
  },
  {
   "cell_type": "code",
   "execution_count": 57,
   "metadata": {},
   "outputs": [
    {
     "data": {
      "text/plain": [
       "array([[  6.   , 148.   ,  72.   , ...,  33.6  ,   0.627,  50.   ],\n",
       "       [  1.   ,  85.   ,  66.   , ...,  26.6  ,   0.351,  31.   ],\n",
       "       [  8.   , 183.   ,  64.   , ...,  23.3  ,   0.672,  32.   ],\n",
       "       ...,\n",
       "       [  5.   , 121.   ,  72.   , ...,  26.2  ,   0.245,  30.   ],\n",
       "       [  1.   , 126.   ,  60.   , ...,  30.1  ,   0.349,  47.   ],\n",
       "       [  1.   ,  93.   ,  70.   , ...,  30.4  ,   0.315,  23.   ]])"
      ]
     },
     "execution_count": 57,
     "metadata": {},
     "output_type": "execute_result"
    }
   ],
   "source": [
    "df2.iloc[:,:-1].values"
   ]
  },
  {
   "cell_type": "code",
   "execution_count": 58,
   "metadata": {},
   "outputs": [
    {
     "data": {
      "text/plain": [
       "Number of times pregnant                                                     1.000\n",
       "Plasma glucose concentration a 2 hours in an oral glucose tolerance test    85.000\n",
       "Diastolic blood pressure (mm Hg)                                            66.000\n",
       "Triceps skin fold thickness (mm)                                            29.000\n",
       "2-Hour serum insulin (mu U/ml)                                               0.000\n",
       "Body mass index (weight in kg/(height in m)^2)                              26.600\n",
       "Diabetes pedigree function                                                   0.351\n",
       "Age (years)                                                                 31.000\n",
       "Class variable (0 or 1)                                                      0.000\n",
       "Name: 0, dtype: float64"
      ]
     },
     "execution_count": 58,
     "metadata": {},
     "output_type": "execute_result"
    }
   ],
   "source": [
    "df2=pd.DataFrame(df.values, columns=columns)\n",
    "df2.loc[0]"
   ]
  },
  {
   "cell_type": "code",
   "execution_count": 59,
   "metadata": {},
   "outputs": [
    {
     "data": {
      "text/plain": [
       "array([[1.00e+00, 8.50e+01, 6.60e+01, ..., 2.66e+01, 3.51e-01, 3.10e+01],\n",
       "       [8.00e+00, 1.83e+02, 6.40e+01, ..., 2.33e+01, 6.72e-01, 3.20e+01],\n",
       "       [1.00e+00, 8.90e+01, 6.60e+01, ..., 2.81e+01, 1.67e-01, 2.10e+01],\n",
       "       ...,\n",
       "       [5.00e+00, 1.21e+02, 7.20e+01, ..., 2.62e+01, 2.45e-01, 3.00e+01],\n",
       "       [1.00e+00, 1.26e+02, 6.00e+01, ..., 3.01e+01, 3.49e-01, 4.70e+01],\n",
       "       [1.00e+00, 9.30e+01, 7.00e+01, ..., 3.04e+01, 3.15e-01, 2.30e+01]])"
      ]
     },
     "execution_count": 59,
     "metadata": {},
     "output_type": "execute_result"
    }
   ],
   "source": [
    "df2.iloc[:,:-1].values #.values는 넘파이 데이터로 치환해줌"
   ]
  },
  {
   "cell_type": "code",
   "execution_count": 60,
   "metadata": {},
   "outputs": [],
   "source": [
    "# 사이킷 런을 배열형식을 넘파이, 데이터프레임 둘다 지원함\n",
    "from sklearn.model_selection import train_test_split\n",
    "X_train, X_test, y_train, y_test = train_test_split(\n",
    "    df2.iloc[:,:-1], df2['Class variable (0 or 1)'], random_state=2021, \n",
    "    test_size=0.2, stratify=df2['Class variable (0 or 1)']\n",
    ") ## test_size는 랜덤군을 80% 실제 군을 20% 조정, stratify는 당뇨인지 아닌지 정해져있는 열의 결과값 비율을 랜덤집군과 실제집군에 나눠주는 조건"
   ]
  },
  {
   "cell_type": "code",
   "execution_count": 61,
   "metadata": {},
   "outputs": [
    {
     "data": {
      "text/plain": [
       "((613, 8), (154, 8), (613,), (154,))"
      ]
     },
     "execution_count": 61,
     "metadata": {},
     "output_type": "execute_result"
    }
   ],
   "source": [
    "X_train.shape, X_test.shape, y_train.shape, y_test.shape"
   ]
  },
  {
   "cell_type": "code",
   "execution_count": 62,
   "metadata": {},
   "outputs": [
    {
     "data": {
      "text/plain": [
       "{'ccp_alpha': 0.0,\n",
       " 'class_weight': None,\n",
       " 'criterion': 'gini',\n",
       " 'max_depth': None,\n",
       " 'max_features': None,\n",
       " 'max_leaf_nodes': None,\n",
       " 'min_impurity_decrease': 0.0,\n",
       " 'min_impurity_split': None,\n",
       " 'min_samples_leaf': 1,\n",
       " 'min_samples_split': 2,\n",
       " 'min_weight_fraction_leaf': 0.0,\n",
       " 'random_state': 2021,\n",
       " 'splitter': 'best'}"
      ]
     },
     "execution_count": 62,
     "metadata": {},
     "output_type": "execute_result"
    }
   ],
   "source": [
    "from sklearn.tree import DecisionTreeClassifier\n",
    "dtc = DecisionTreeClassifier(random_state=2021)\n",
    "dtc.get_params()"
   ]
  },
  {
   "cell_type": "code",
   "execution_count": 63,
   "metadata": {},
   "outputs": [
    {
     "data": {
      "text/plain": [
       "DecisionTreeClassifier(random_state=2021)"
      ]
     },
     "execution_count": 63,
     "metadata": {},
     "output_type": "execute_result"
    }
   ],
   "source": [
    "dtc.fit(X_train, y_train)"
   ]
  },
  {
   "cell_type": "code",
   "execution_count": 64,
   "metadata": {},
   "outputs": [],
   "source": [
    "pred = dtc.predict(X_test)"
   ]
  },
  {
   "cell_type": "code",
   "execution_count": 65,
   "metadata": {},
   "outputs": [
    {
     "data": {
      "text/plain": [
       "0.6428571428571429"
      ]
     },
     "execution_count": 65,
     "metadata": {},
     "output_type": "execute_result"
    }
   ],
   "source": [
    "from sklearn.metrics import accuracy_score\n",
    "accuracy_score(y_test, pred)"
   ]
  },
  {
   "cell_type": "code",
   "execution_count": 66,
   "metadata": {},
   "outputs": [],
   "source": [
    "from sklearn.model_selection import GridSearchCV"
   ]
  },
  {
   "cell_type": "code",
   "execution_count": 67,
   "metadata": {},
   "outputs": [],
   "source": [
    "params = {\n",
    "    'max_depth' : [2,3,4,5,6],\n",
    "\n",
    "    'min_samples_split' : [2,3,4]\n",
    "}"
   ]
  },
  {
   "cell_type": "code",
   "execution_count": 68,
   "metadata": {},
   "outputs": [
    {
     "data": {
      "text/plain": [
       "GridSearchCV(cv=3, estimator=DecisionTreeClassifier(random_state=2021),\n",
       "             param_grid={'max_depth': [2, 3, 4, 5, 6],\n",
       "                         'min_samples_split': [2, 3, 4]},\n",
       "             scoring='accuracy')"
      ]
     },
     "execution_count": 68,
     "metadata": {},
     "output_type": "execute_result"
    }
   ],
   "source": [
    "grid_dt = GridSearchCV(dtc, param_grid=params, scoring='accuracy', cv=3)\n",
    "grid_dt.fit(X_train, y_train)"
   ]
  },
  {
   "cell_type": "code",
   "execution_count": 69,
   "metadata": {},
   "outputs": [
    {
     "data": {
      "text/plain": [
       "0.7194723417822414"
      ]
     },
     "execution_count": 69,
     "metadata": {},
     "output_type": "execute_result"
    }
   ],
   "source": [
    "grid_dt.best_score_"
   ]
  },
  {
   "cell_type": "code",
   "execution_count": 70,
   "metadata": {},
   "outputs": [
    {
     "data": {
      "text/plain": [
       "{'max_depth': 4, 'min_samples_split': 2}"
      ]
     },
     "execution_count": 70,
     "metadata": {},
     "output_type": "execute_result"
    }
   ],
   "source": [
    "grid_dt.best_params_"
   ]
  },
  {
   "cell_type": "code",
   "execution_count": 71,
   "metadata": {},
   "outputs": [],
   "source": [
    "best_dt=grid_dt.best_estimator_"
   ]
  },
  {
   "cell_type": "code",
   "execution_count": 72,
   "metadata": {},
   "outputs": [
    {
     "data": {
      "text/plain": [
       "0.7402597402597403"
      ]
     },
     "execution_count": 72,
     "metadata": {},
     "output_type": "execute_result"
    }
   ],
   "source": [
    "best_dt.score(X_test, y_test)"
   ]
  },
  {
   "cell_type": "markdown",
   "metadata": {},
   "source": [
    "# 실제값 하나가 주어졌을 떄 당뇨병 유무를 확인하는 방법"
   ]
  },
  {
   "cell_type": "code",
   "execution_count": 83,
   "metadata": {},
   "outputs": [
    {
     "data": {
      "text/plain": [
       "0.0"
      ]
     },
     "execution_count": 83,
     "metadata": {},
     "output_type": "execute_result"
    }
   ],
   "source": [
    "y_test.values[33]"
   ]
  },
  {
   "cell_type": "code",
   "execution_count": 88,
   "metadata": {},
   "outputs": [
    {
     "data": {
      "text/plain": [
       "array([  0.   , 126.   ,  86.   ,  27.   , 120.   ,  27.4  ,   0.515,\n",
       "        21.   ])"
      ]
     },
     "execution_count": 88,
     "metadata": {},
     "output_type": "execute_result"
    }
   ],
   "source": [
    "test_data=X_test.values[33]\n",
    "test_data"
   ]
  },
  {
   "cell_type": "code",
   "execution_count": 91,
   "metadata": {},
   "outputs": [
    {
     "data": {
      "text/plain": [
       "array([0.])"
      ]
     },
     "execution_count": 91,
     "metadata": {},
     "output_type": "execute_result"
    }
   ],
   "source": [
    "# x_test형태를 y_test형태인 8,로 바꿔줘야 가능\n",
    "best_dt.predict(test_data.reshape(1,8))"
   ]
  }
 ],
 "metadata": {
  "interpreter": {
   "hash": "e3bde7f9be308a4ed5b677c98eb4e5423d8d4c39cb1152441ce9aa81adc70699"
  },
  "kernelspec": {
   "display_name": "Python 3.8.8 64-bit ('base': conda)",
   "language": "python",
   "name": "python3"
  },
  "language_info": {
   "codemirror_mode": {
    "name": "ipython",
    "version": 3
   },
   "file_extension": ".py",
   "mimetype": "text/x-python",
   "name": "python",
   "nbconvert_exporter": "python",
   "pygments_lexer": "ipython3",
   "version": "3.8.8"
  },
  "orig_nbformat": 4
 },
 "nbformat": 4,
 "nbformat_minor": 2
}
